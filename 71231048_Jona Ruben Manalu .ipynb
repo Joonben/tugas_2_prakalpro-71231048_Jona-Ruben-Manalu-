{
 "cells": [
  {
   "cell_type": "code",
   "execution_count": 2,
   "id": "51b33f5a",
   "metadata": {},
   "outputs": [
    {
     "name": "stdout",
     "output_type": "stream",
     "text": [
      "Masukan Berat Badan anda (kg) :70\n",
      "Masukan Tinggi Badan anda (m):1.75\n",
      "BMI anda adalah : 22.86\n"
     ]
    }
   ],
   "source": [
    "#latihan mandiri 2.1\n",
    "berat_badan = float(input(\"Masukan Berat Badan anda (kg) :\"))\n",
    "tinggi_badan = float(input(\"Masukan Tinggi Badan anda (m):\"))\n",
    "bmi = berat_badan / tinggi_badan**2 \n",
    "\n",
    "print(f\"BMI anda adalah :{bmi: .2f}\")"
   ]
  },
  {
   "cell_type": "code",
   "execution_count": 6,
   "id": "7cdf8581",
   "metadata": {},
   "outputs": [
    {
     "name": "stdout",
     "output_type": "stream",
     "text": [
      "masukan nilai bilangan bulat : 12\n",
      "Jadi f(x) = 2x^3+2x+15/x =  3481.25\n"
     ]
    }
   ],
   "source": [
    "#latihan mandiri 2.2\n",
    "x  = int(input(\"masukan nilai bilangan bulat : \"))\n",
    "hitung = 2 * (x ** 3) + (2 * x) + (15 / x)\n",
    "print(\"Jadi f(x) = 2x^3+2x+15/x = \",hitung)"
   ]
  },
  {
   "cell_type": "code",
   "execution_count": 1,
   "id": "e4e53d2b",
   "metadata": {},
   "outputs": [
    {
     "name": "stdout",
     "output_type": "stream",
     "text": [
      "masukan gaji perjam   : Rp.69000\n",
      "Masukan jam per minggu : 30\n",
      "Pendapatan Budi selama libur musim panas sebelum melakukan pembayaran pajak  : Rp. 10350000\n",
      "Pendapatan Budi selama libur musim panas setelah melakukan pembayaran pajak  : Rp. 8901000.0\n",
      "Jumlah uang yang akan Budi habiskan untuk membeli pakaian dan aksesoris      : Rp. 8010900.0\n",
      "Jumlah uang yang akan Budi habiskan untuk membeli alat tulis                 : Rp. 7120800.0\n",
      "Jumlah uang yang akan Budi sedekahkan                                        : Rp. 5340600.0\n",
      "Jumlah uang yang akan diterima anak yatim                                    : Rp. 1602.0\n",
      "Jumlah uang yang akan diterima kaum dhuafa                                   : Rp. 5338998.0\n"
     ]
    }
   ],
   "source": [
    "#latihan mandiri 2.3\n",
    "gaji_perjam = int(input(\"masukan gaji perjam   : Rp.\"))\n",
    "jam_minggu = int(input(\"Masukan jam per minggu : \"))\n",
    "\n",
    "gaji_kotor = gaji_perjam * (5 * jam_minggu)\n",
    "gaji_bersih = gaji_kotor - (gaji_kotor * 0.14)\n",
    "pembelian_pakaian = gaji_bersih -(gaji_bersih * 0.10)\n",
    "pembelian_alat_tulis = pembelian_pakaian - (gaji_bersih *0.1)\n",
    "sedekah = pembelian_alat_tulis - (pembelian_alat_tulis * 0.25)\n",
    "yatim = (sedekah // 1000) * 0.30\n",
    "dhuafa = sedekah - yatim\n",
    "\n",
    "print(\"Pendapatan Budi selama libur musim panas sebelum melakukan pembayaran pajak  : Rp.\", gaji_kotor)\n",
    "print(\"Pendapatan Budi selama libur musim panas setelah melakukan pembayaran pajak  : Rp.\", gaji_bersih)\n",
    "print(\"Jumlah uang yang akan Budi habiskan untuk membeli pakaian dan aksesoris      : Rp.\", pembelian_pakaian)\n",
    "print(\"Jumlah uang yang akan Budi habiskan untuk membeli alat tulis                 : Rp.\", pembelian_alat_tulis)\n",
    "print(\"Jumlah uang yang akan Budi sedekahkan                                        : Rp.\", sedekah)\n",
    "print(\"Jumlah uang yang akan diterima anak yatim                                    : Rp.\", yatim)\n",
    "print(\"Jumlah uang yang akan diterima kaum dhuafa                                   : Rp.\", dhuafa)"
   ]
  },
  {
   "cell_type": "code",
   "execution_count": null,
   "id": "0bd15dcb",
   "metadata": {},
   "outputs": [],
   "source": []
  },
  {
   "cell_type": "code",
   "execution_count": null,
   "id": "388254c3",
   "metadata": {},
   "outputs": [],
   "source": []
  }
 ],
 "metadata": {
  "kernelspec": {
   "display_name": "Python 3 (ipykernel)",
   "language": "python",
   "name": "python3"
  },
  "language_info": {
   "codemirror_mode": {
    "name": "ipython",
    "version": 3
   },
   "file_extension": ".py",
   "mimetype": "text/x-python",
   "name": "python",
   "nbconvert_exporter": "python",
   "pygments_lexer": "ipython3",
   "version": "3.11.5"
  }
 },
 "nbformat": 4,
 "nbformat_minor": 5
}
